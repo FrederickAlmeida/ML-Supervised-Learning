{
  "nbformat": 4,
  "nbformat_minor": 0,
  "metadata": {
    "colab": {
      "provenance": []
    },
    "kernelspec": {
      "name": "python3",
      "display_name": "Python 3"
    },
    "language_info": {
      "name": "python"
    }
  },
  "cells": [
    {
      "cell_type": "code",
      "execution_count": null,
      "metadata": {
        "id": "vL0KE_HoaQlA"
      },
      "outputs": [],
      "source": [
        "\"\"\"\n",
        "link do dataset:\n",
        "https://www.kaggle.com/datasets/rashikrahmanpritom/heart-attack-analysis-prediction-dataset/data\n",
        "\"\"\"\n",
        ""
      ]
    },
    {
      "cell_type": "code",
      "source": [
        "# imports\n",
        "\n",
        "from sklearn.neighbors import KNeighborsClassifier\n",
        "from sklearn.model_selection import train_test_split, cross_val_score\n",
        "from sklearn.metrics import accuracy_score\n",
        "from scipy.spatial import distance\n",
        "import pandas as pd\n",
        "import numpy as np\n",
        ""
      ],
      "metadata": {
        "id": "YPdK2kv_bJXz"
      },
      "execution_count": 1,
      "outputs": []
    },
    {
      "cell_type": "code",
      "source": [
        "# salvar o dataset\n",
        "df = pd.read_csv(\"heart.csv\")\n",
        "\n",
        "# separando entre labels e target\n",
        "data_values = df.iloc[:, :-1].values\n",
        "data_labels = df.iloc[:, -1:].values\n",
        "\n",
        "# normalizando os valores\n",
        "data = (data_values - np.mean(data_values, axis=0)) / np.std(data_values, axis=0)\n"
      ],
      "metadata": {
        "id": "ICTrsah7dHry"
      },
      "execution_count": 5,
      "outputs": []
    },
    {
      "cell_type": "code",
      "source": [
        "# Percorrendo o algoritmo KNN com diferentes números de k e métricas\n",
        "\n",
        "# Separando os dsdos em um conjunto de treinamento e um de teste\n",
        "train_data, test_data, train_labels, test_labels = train_test_split(data, data_labels, random_state=0)\n",
        "\n",
        "# Definindo as métricas de distância\n",
        "metrics = [distance.euclidean, distance.cityblock, distance.minkowski, distance.hamming]\n",
        "\n",
        "# Valores de k a serem testados\n",
        "k_values = list(range(1, 16))\n",
        "\n",
        "accuracy_dict = {}\n",
        "\n",
        "for metric in metrics:\n",
        "    accuracy_list = []\n",
        "\n",
        "    for k in k_values:\n",
        "        # cria o classificador KNN\n",
        "        knn = KNeighborsClassifier(n_neighbors=k, metric=metric)\n",
        "\n",
        "        # realiza a validação cruzada\n",
        "        scores = cross_val_score(knn, train_data, train_labels.ravel(), cv=5, scoring='accuracy')\n",
        "\n",
        "        # calcula a acurácia média e coloca na lista\n",
        "        accuracy_mean = np.mean(scores)\n",
        "        accuracy_list.append(accuracy_mean)\n",
        "\n",
        "    accuracy_dict[metric.__name__] = accuracy_list\n",
        "\n",
        "for metric_name, accuracy_list in accuracy_dict.items():\n",
        "    print('Métrica de distância:', metric_name)\n",
        "    for k, accuracy in zip(k_values, accuracy_list):\n",
        "        print(f'k = {k}, Acurácia média = {accuracy:.3f}')\n",
        "    print()"
      ],
      "metadata": {
        "colab": {
          "base_uri": "https://localhost:8080/"
        },
        "id": "3_ufAhmweX8U",
        "outputId": "9d69e960-5a76-4514-fed8-c65c30383d2b"
      },
      "execution_count": 7,
      "outputs": [
        {
          "output_type": "stream",
          "name": "stdout",
          "text": [
            "Métrica de distância: euclidean\n",
            "k = 1, Acurácia média = 0.714\n",
            "k = 2, Acurácia média = 0.749\n",
            "k = 3, Acurácia média = 0.780\n",
            "k = 4, Acurácia média = 0.784\n",
            "k = 5, Acurácia média = 0.806\n",
            "k = 6, Acurácia média = 0.807\n",
            "k = 7, Acurácia média = 0.793\n",
            "k = 8, Acurácia média = 0.807\n",
            "k = 9, Acurácia média = 0.811\n",
            "k = 10, Acurácia média = 0.824\n",
            "k = 11, Acurácia média = 0.815\n",
            "k = 12, Acurácia média = 0.816\n",
            "k = 13, Acurácia média = 0.802\n",
            "k = 14, Acurácia média = 0.824\n",
            "k = 15, Acurácia média = 0.829\n",
            "\n",
            "Métrica de distância: cityblock\n",
            "k = 1, Acurácia média = 0.749\n",
            "k = 2, Acurácia média = 0.798\n",
            "k = 3, Acurácia média = 0.807\n",
            "k = 4, Acurácia média = 0.794\n",
            "k = 5, Acurácia média = 0.806\n",
            "k = 6, Acurácia média = 0.816\n",
            "k = 7, Acurácia média = 0.820\n",
            "k = 8, Acurácia média = 0.824\n",
            "k = 9, Acurácia média = 0.842\n",
            "k = 10, Acurácia média = 0.833\n",
            "k = 11, Acurácia média = 0.829\n",
            "k = 12, Acurácia média = 0.842\n",
            "k = 13, Acurácia média = 0.820\n",
            "k = 14, Acurácia média = 0.842\n",
            "k = 15, Acurácia média = 0.837\n",
            "\n",
            "Métrica de distância: minkowski\n",
            "k = 1, Acurácia média = 0.714\n",
            "k = 2, Acurácia média = 0.749\n",
            "k = 3, Acurácia média = 0.780\n",
            "k = 4, Acurácia média = 0.784\n",
            "k = 5, Acurácia média = 0.806\n",
            "k = 6, Acurácia média = 0.807\n",
            "k = 7, Acurácia média = 0.793\n",
            "k = 8, Acurácia média = 0.807\n",
            "k = 9, Acurácia média = 0.811\n",
            "k = 10, Acurácia média = 0.824\n",
            "k = 11, Acurácia média = 0.815\n",
            "k = 12, Acurácia média = 0.816\n",
            "k = 13, Acurácia média = 0.802\n",
            "k = 14, Acurácia média = 0.824\n",
            "k = 15, Acurácia média = 0.829\n",
            "\n",
            "Métrica de distância: hamming\n",
            "k = 1, Acurácia média = 0.776\n",
            "k = 2, Acurácia média = 0.763\n",
            "k = 3, Acurácia média = 0.811\n",
            "k = 4, Acurácia média = 0.828\n",
            "k = 5, Acurácia média = 0.811\n",
            "k = 6, Acurácia média = 0.811\n",
            "k = 7, Acurácia média = 0.802\n",
            "k = 8, Acurácia média = 0.811\n",
            "k = 9, Acurácia média = 0.829\n",
            "k = 10, Acurácia média = 0.820\n",
            "k = 11, Acurácia média = 0.833\n",
            "k = 12, Acurácia média = 0.824\n",
            "k = 13, Acurácia média = 0.842\n",
            "k = 14, Acurácia média = 0.837\n",
            "k = 15, Acurácia média = 0.829\n",
            "\n"
          ]
        }
      ]
    },
    {
      "cell_type": "code",
      "source": [
        "# Resultado final de cada métrica de distância com o maior valor de acurácia média\n",
        "\n",
        "for metric_name, accuracy_list in accuracy_dict.items():\n",
        "    # encontra o maior valor de acurácia média e qual foi o k correspondente\n",
        "    max_accuracy = max(accuracy_list)\n",
        "    max_k = k_values[accuracy_list.index(max_accuracy)]\n",
        "\n",
        "    print(f'Métrica de distância: {metric_name}')\n",
        "    print(f'Maior acurácia média: {max_accuracy:.3f} (k = {max_k}) \\n')"
      ],
      "metadata": {
        "colab": {
          "base_uri": "https://localhost:8080/"
        },
        "id": "-30TIiqxfRH0",
        "outputId": "1ee1171f-272e-4159-9e85-4c10a0381138"
      },
      "execution_count": 8,
      "outputs": [
        {
          "output_type": "stream",
          "name": "stdout",
          "text": [
            "Métrica de distância: euclidean\n",
            "Maior acurácia média: 0.829 (k = 15) \n",
            "\n",
            "Métrica de distância: cityblock\n",
            "Maior acurácia média: 0.842 (k = 9) \n",
            "\n",
            "Métrica de distância: minkowski\n",
            "Maior acurácia média: 0.829 (k = 15) \n",
            "\n",
            "Métrica de distância: hamming\n",
            "Maior acurácia média: 0.842 (k = 13) \n",
            "\n"
          ]
        }
      ]
    }
  ]
}